{
 "cells": [
  {
   "cell_type": "code",
   "execution_count": 1,
   "id": "1ec9a39d",
   "metadata": {},
   "outputs": [
    {
     "name": "stdout",
     "output_type": "stream",
     "text": [
      "779825\n",
      "640828\n"
     ]
    }
   ],
   "source": [
    "from glob import glob\n",
    "\n",
    "fake_paths=glob('d:/AI_term_project/deepfake_1st/fake/*/*/*/*/*/*.jpg')\n",
    "real_paths=glob('d:/AI_term_project/deepfake_1st/real/*/*/*/*/*.jpg')\n",
    "\n",
    "print(len(fake_paths))\n",
    "print(len(real_paths))"
   ]
  },
  {
   "cell_type": "code",
   "execution_count": 5,
   "id": "89494cb2",
   "metadata": {},
   "outputs": [
    {
     "name": "stdout",
     "output_type": "stream",
     "text": [
      "total real_paths length: 13500\n"
     ]
    }
   ],
   "source": [
    "from glob import glob\n",
    "import random\n",
    "import shutil\n",
    "\n",
    "# 이미지들이 들어있는 마지막 폴더까지의 경로를 찾음\n",
    "fake_paths=glob('d:/AI_term_project/deepfake_1st/fake/*/*/*/*/*')\n",
    "\n",
    "path_for_fake = 'd:/AI_term_project/select/fake/'  # fake image 저장할 폴더경로\n",
    "\n",
    "print('total fake_paths length: ' + str(len(fake_paths)))\n",
    "\n",
    "count = 0\n",
    "names = []\n",
    "for path in fake_paths:\n",
    "    images = glob(path+'/*.jpg')\n",
    "    names = []\n",
    "    while(len(names) <len(images) and len(names)<10):\n",
    "        random_choice = random.choice(images)\n",
    "        if(random_choice not in names):\n",
    "            shutil.copyfile(random_choice, path_for_fake+ str(count) +'.jpg')\n",
    "            count+=1\n",
    "            names.append(random_choice)"
   ]
  },
  {
   "cell_type": "code",
   "execution_count": null,
   "id": "6118a347",
   "metadata": {},
   "outputs": [],
   "source": [
    "# 이미지들이 들어있는 마지막 폴더까지의 경로를 찾음\n",
    "real_paths=glob('d:/AI_term_project/deepfake_1st/real/*/*/*/*/*')\n",
    "\n",
    "path_for_real = 'd:/AI_term_project/select/real/'  # fake image 저장할 폴더경로\n",
    "\n",
    "print('total real_paths length: ' + str(len(real_paths)))\n",
    "\n",
    "count = 0\n",
    "names = []\n",
    "for path in real_paths:\n",
    "    images = glob(path+'/*.jpg')\n",
    "    names = []\n",
    "    while(len(names) <len(images) and len(names)<10):\n",
    "        random_choice = random.choice(images)\n",
    "        if(random_choice not in names):\n",
    "            shutil.copyfile(random_choice, path_for_real+ str(count) +'.jpg')\n",
    "            count+=1\n",
    "            names.append(random_choice)"
   ]
  }
 ],
 "metadata": {
  "kernelspec": {
   "display_name": "test",
   "language": "python",
   "name": "test"
  },
  "language_info": {
   "codemirror_mode": {
    "name": "ipython",
    "version": 3
   },
   "file_extension": ".py",
   "mimetype": "text/x-python",
   "name": "python",
   "nbconvert_exporter": "python",
   "pygments_lexer": "ipython3",
   "version": "3.8.13"
  }
 },
 "nbformat": 4,
 "nbformat_minor": 5
}
